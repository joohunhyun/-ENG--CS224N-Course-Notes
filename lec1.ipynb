{
 "cells": [
  {
   "cell_type": "markdown",
   "metadata": {},
   "source": [
    "# Lecture 1 : intro and Word Vectors"
   ]
  },
  {
   "cell_type": "markdown",
   "metadata": {},
   "source": [
    "## TL;DR\n",
    "\n",
    "- Different ways words are represented by computers\n",
    "  - WordNet : manual labeling, traditional method\n",
    "  - WordVectors\n",
    "    - One-Hot Vectors\n",
    "    - Word Vectors"
   ]
  },
  {
   "cell_type": "markdown",
   "metadata": {},
   "source": [
    "## Meaning of a Word\n",
    "\n",
    "**How can we represent the meaning of a word?**\n",
    "\n",
    "### Wordnet\n",
    "Previously utilized NLP solution : WordNet\n",
    "\n",
    "### Discrete Symbols\n",
    "- Representing words as discrete symbols as one-hot-vectors\n",
    "- Problem\n",
    "  - If a user searches for “Seattle motel”, we would like to matchdocuments containing “Seattle hotel”.\n",
    "  - However, the two vectors below are orthogonal, so there is no similarity between the two in one-hot-vectors\n",
    "\n",
    "```\n",
    "motel = [0 0 0 0 0 0 0 0 0 0 1 0 0 0 0]\n",
    "hotel = [0 0 0 0 0 0 0 1 0 0 0 0 0 0 0]\n",
    "```\n",
    "- Solution\n",
    "  - Could try to rely on WordNet’s list of synonyms to get similarity?\n",
    "    - But it is well-known to fail badly: incompleteness, etc.\n",
    "  - Instead: learn to encode similarity in the vectors themselves"
   ]
  },
  {
   "cell_type": "markdown",
   "metadata": {},
   "source": [
    "## WordNet\n",
    "- **Wordnet** is a lexical database of semantic relations between words in English first created by CogSys Lab of Princeton University.\n",
    "- It includes N, V, ADJ, ADV but omits PREP, DET, and other function words.\n",
    "- WordVec for other langauges exists too."
   ]
  },
  {
   "cell_type": "markdown",
   "metadata": {},
   "source": [
    "### WordNet Example"
   ]
  },
  {
   "cell_type": "markdown",
   "metadata": {},
   "source": [
    "Downloading nltk and wordnet"
   ]
  },
  {
   "cell_type": "code",
   "execution_count": null,
   "metadata": {},
   "outputs": [],
   "source": [
    "import nltk\n",
    "nltk.download('wordnet')"
   ]
  },
  {
   "cell_type": "code",
   "execution_count": 8,
   "metadata": {},
   "outputs": [
    {
     "name": "stdout",
     "output_type": "stream",
     "text": [
      "Synsets for the word \"invite\" in WordNet:\n",
      "\n",
      " [Synset('invite.n.01'), Synset('invite.v.01'), Synset('invite.v.02'), Synset('tempt.v.03'), Synset('invite.v.04'), Synset('invite.v.05'), Synset('invite.v.06'), Synset('invite.v.07'), Synset('receive.v.05')]\n"
     ]
    }
   ],
   "source": [
    "from nltk.corpus import wordnet as wn\n",
    "\n",
    "print('Synsets for the word \"invite\" in WordNet:\\n\\n', wn.synsets('invite'))"
   ]
  },
  {
   "cell_type": "code",
   "execution_count": 9,
   "metadata": {},
   "outputs": [
    {
     "name": "stdout",
     "output_type": "stream",
     "text": [
      "--------------------Way one--------------------\n",
      "Synsets for the noun \"invite\" in WordNet:\n",
      "\n",
      " [Synset('invite.n.01')]\n",
      "\n",
      "\n",
      "--------------------Way two--------------------\n",
      "Synsets for the noun \"invite\" in WordNet:\n",
      "\n",
      " [Synset('invite.n.01')]\n"
     ]
    }
   ],
   "source": [
    "# We can constrain the search by specifying the part of speech\n",
    "# parts of speech available: ADJ, ADV, ADJ_SAT, NOUN, VERB\n",
    "# ADJ_SAT: see https://stackoverflow.com/questions/18817396/what-part-of-speech-does-s-stand-for-in-wordnet-synsets\n",
    "\n",
    "# Way one\n",
    "print(f'{\"-\"*20}Way one{\"-\"*20}')\n",
    "print('Synsets for the noun \"invite\" in WordNet:\\n\\n', wn.synsets('invite', pos=wn.NOUN))\n",
    "\n",
    "# Way two\n",
    "print(f'\\n\\n{\"-\"*20}Way two{\"-\"*20}')\n",
    "# pos: {'n':'noun', 'v':'verb', 's':'adj (s)', 'a':'adj', 'r':'adv'}\n",
    "print('Synsets for the noun \"invite\" in WordNet:\\n\\n', [s for s in wn.synsets('invite') if s.pos()=='n'])\n"
   ]
  },
  {
   "cell_type": "code",
   "execution_count": 10,
   "metadata": {},
   "outputs": [
    {
     "name": "stdout",
     "output_type": "stream",
     "text": [
      "--------------------Definition--------------------\n",
      "The definition for invite as a noun:\n",
      "\n",
      " a colloquial expression for invitation\n",
      "\n",
      "\n",
      "--------------------Examples--------------------\n",
      "The definition for invite as a noun:\n",
      "\n",
      " [\"he didn't get no invite to the party\"]\n",
      "\n",
      "\n",
      "--------------------Hypernyms--------------------\n",
      "The hypernyms for invite as a noun:\n",
      "\n",
      " [Synset('invitation.n.01')]\n"
     ]
    }
   ],
   "source": [
    "# check definition of a synset\n",
    "print(f'{\"-\"*20}Definition{\"-\"*20}')\n",
    "print('The definition for invite as a noun:\\n\\n', wn.synset('invite.n.01').definition())\n",
    "\n",
    "# check the related examples\n",
    "print(f'\\n\\n{\"-\"*20}Examples{\"-\"*20}')\n",
    "print('The definition for invite as a noun:\\n\\n', wn.synset('invite.n.01').examples())\n",
    "\n",
    "# check the hypernyms\n",
    "print(f'\\n\\n{\"-\"*20}Hypernyms{\"-\"*20}')\n",
    "print('The hypernyms for invite as a noun:\\n\\n', wn.synset('invite.n.01').hypernyms())\n"
   ]
  },
  {
   "cell_type": "markdown",
   "metadata": {},
   "source": [
    "### Limitations\n",
    "- Requires human labor\n",
    "  - Impossible to update every word\n",
    "- Missing **nuance**\n",
    "  - \"proficient\" is listed as a synoynm for \"good\"\n",
    "- Misses new words\n",
    "  - badass, nifty, etc\n",
    "- Cannot compute word similarity accurately (score range : 0~1)"
   ]
  },
  {
   "cell_type": "code",
   "execution_count": null,
   "metadata": {},
   "outputs": [],
   "source": []
  },
  {
   "cell_type": "code",
   "execution_count": 11,
   "metadata": {},
   "outputs": [
    {
     "name": "stdout",
     "output_type": "stream",
     "text": [
      "The path similarity between cat(noun) and dog(noun):  0.2\n"
     ]
    }
   ],
   "source": [
    "dog = wn.synset('dog.n.01')\n",
    "cat = wn.synset('cat.n.01')\n",
    "print('The path similarity between cat(noun) and dog(noun): ', dog.path_similarity(cat))"
   ]
  },
  {
   "cell_type": "markdown",
   "metadata": {},
   "source": [
    "## Word Vectors(AKA Embeddings)\n",
    "\n",
    "- When a word *w* appears in a text, the **context** is the set of words that appear nearby.\n",
    "- **Context words** build up a representation of *w*\n",
    "- A dense **vector** for each word is created, measuring similarity as the vector dot product\n",
    "\n",
    "<p align=\"center\">\n",
    "    <img src=\"img/j/j1.png\" alt=\"Word Vectors\" width=\"500\"/>\n",
    "</p>\n",
    "\n",
    "\n",
    "**Word Space**\n",
    "\n",
    "<p align=\"center\">\n",
    "    <img src=\"img/j/j2.png\" alt=\"word vector\" width=\"500\"/>\n",
    "</p>\n",
    "\n",
    "- note that:\n",
    "  - has, have, had are grouped together\n",
    "  - come, go are closely groupd\n",
    "\n"
   ]
  },
  {
   "cell_type": "markdown",
   "metadata": {},
   "source": [
    "## Word2vec\n",
    "\n",
    "**Word2Vec** is a frameword for learning word vectors\n",
    "\n",
    "How it works:\n",
    "\n",
    "1. Get a large **corpus**(latin word for body) of text\n",
    "2. Create a vector for each word in a fixed vocabulary\n",
    "3. Go through each position *t* in the text, which has center word *c* and context words *o*\n",
    "4. Find the probability of *o* given *c*(or vice versa) using the similarity of word vectors for *c* and *o*\n",
    "5. Keep adjusting this\n",
    "\n",
    "**core idea** : What is the probability of a word occuring in the context of the  center word?\n",
    "\n",
    "\n",
    "<p align=\"center\">\n",
    "    <img src=\"img/j/j3.png\" alt=\"calc\" width=\"500\"/>\n",
    "</p>\n",
    "\n",
    "If the window = 2, then it predicts the likelihood of the 2 words that come before and after the center word.\n"
   ]
  },
  {
   "cell_type": "markdown",
   "metadata": {},
   "source": []
  }
 ],
 "metadata": {
  "kernelspec": {
   "display_name": "cs224n",
   "language": "python",
   "name": "python3"
  },
  "language_info": {
   "codemirror_mode": {
    "name": "ipython",
    "version": 3
   },
   "file_extension": ".py",
   "mimetype": "text/x-python",
   "name": "python",
   "nbconvert_exporter": "python",
   "pygments_lexer": "ipython3",
   "version": "3.13.2"
  }
 },
 "nbformat": 4,
 "nbformat_minor": 2
}
